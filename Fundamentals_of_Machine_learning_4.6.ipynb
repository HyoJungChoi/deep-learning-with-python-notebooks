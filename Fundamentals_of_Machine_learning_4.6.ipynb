{
 "cells": [
  {
   "cell_type": "markdown",
   "metadata": {},
   "source": [
    "## Supervised vs Unsupervised\n",
    "\n",
    "s: classification, regression, object detection, image segmentation..   \n",
    "\n",
    "u: Dimension reduction, clustering....\n",
    "\n",
    "## Self-supervised learning\n",
    "\n",
    "autoencoder  \n",
    "\n",
    "## Reinforcement learning\n",
    "\n",
    "게임, 알파고..."
   ]
  },
  {
   "cell_type": "markdown",
   "metadata": {},
   "source": [
    "## Evaluating machine-learning models\n",
    "\n",
    "파라미터, 하이퍼파라미터 튜닝을 validation set으로 하고 그래서 많은것을 알게 되기 때문에 과적합을 피하기 위해 test set이 필요함  \n",
    "\n"
   ]
  },
  {
   "cell_type": "code",
   "execution_count": null,
   "metadata": {},
   "outputs": [],
   "source": [
    "num_valiadation_samples=10000\n",
    "np.random.shuffle(data) # 순서가 의미 없게 해주기 위해\n",
    "validation_data=data[:num validation_samples]\n",
    "data=data[num_validation_samples:]\n",
    "\n",
    "training_data=data[:]\n",
    "model=get_model() # 전에 정해놓은 모델을 가져옴\n",
    "model.train(training_data)\n",
    "validation_score=model.evaluate(validation_data)\n",
    "\n",
    "#At this point you can tune your model,\n",
    "#retrain it, evaluate it, tune it again\n",
    "\n",
    "model=get_model() # 최종모형\n",
    "model.train(np.concatenate([training_data,validation_data]))\n",
    "test_score=model.evaluate(test_data)\n"
   ]
  },
  {
   "cell_type": "markdown",
   "metadata": {},
   "source": [
    "![kfold](./image/kfold.png)\n",
    "\n"
   ]
  },
  {
   "cell_type": "markdown",
   "metadata": {},
   "source": [
    "## Things ro keep in mind\n",
    "\n",
    "1. 랜덤셔플링이 중요하다.  \n",
    "\n",
    "2. 시간 정보가 있으면 랜덤 셔플 하지 말고 미래 데이터를 테스트 셋으로 남겨둬라  \n",
    "\n",
    "3. 중복제거"
   ]
  },
  {
   "cell_type": "markdown",
   "metadata": {},
   "source": [
    "## Data preprocessing for neural networks\n",
    "\n",
    "\n",
    "1. vectorization: 인풋을 모두 텐서로 만들기  \n",
    "\n",
    "\n",
    "2. value nomalization : most values in 0-1, 메모리 쓸 때 적게 쓰려면 0-1 사이인게 좋다. 동질적인게 좋다.\n",
    "\n",
    "\n",
    "3. Handling missing data: traindp missing을 만들어서 train 하게 한다거나....   \n",
    "\n",
    "\n",
    "### optimization\n",
    "\n",
    "loss를 최소화 시키는 방향으로 최적화 시켜가는 \n",
    "\n",
    "### generalization\n",
    "\n",
    "테스트 셋에 대한 퍼포먼스 처음보는 데이터에 대한 how well trained\n",
    "\n",
    "### regularization\n",
    "\n",
    "오버피팅을 막아주는\n",
    "\n",
    "ex) 네트워크 사이즈를 줄여줘서 간단히 만들기, 데이터를 더 많이 모으기\n",
    "\n"
   ]
  },
  {
   "cell_type": "markdown",
   "metadata": {},
   "source": [
    "## Adding weight regularization\n",
    "\n",
    "L1 regularization: 라쏘  \n",
    "\n",
    "L2 regularization: 릿지\n",
    "\n",
    "weight가 커지지 않도록 하는것 "
   ]
  },
  {
   "cell_type": "markdown",
   "metadata": {},
   "source": [
    "## drop out\n",
    "\n",
    "랜덤하게 일정 비율의 노드를 쓰지 않는다. 매번 다르게 해서 합쳐서 모형을 만들어줌 랜덤 포레스트 처럼"
   ]
  },
  {
   "cell_type": "markdown",
   "metadata": {},
   "source": [
    "## The universal workflow of machine learning\n",
    "\n",
    "- 측정지표  \n",
    "\n",
    "\n",
    "- 평가는 무엇으로 할건지  \n",
    "\n",
    "\n",
    "\n",
    "- 데이터를 텐서 형태로 바꾸기   \n",
    "\n",
    "\n",
    "-  0-1 사이의 작은 수로 만들기  \n",
    "\n",
    "\n",
    "-  분산 비슷하게 만들어주기  \n",
    "\n",
    "\n",
    "\n"
   ]
  },
  {
   "cell_type": "code",
   "execution_count": null,
   "metadata": {},
   "outputs": [],
   "source": []
  }
 ],
 "metadata": {
  "kernelspec": {
   "display_name": "Python 3",
   "language": "python",
   "name": "python3"
  },
  "language_info": {
   "codemirror_mode": {
    "name": "ipython",
    "version": 3
   },
   "file_extension": ".py",
   "mimetype": "text/x-python",
   "name": "python",
   "nbconvert_exporter": "python",
   "pygments_lexer": "ipython3",
   "version": "3.7.6"
  }
 },
 "nbformat": 4,
 "nbformat_minor": 4
}
