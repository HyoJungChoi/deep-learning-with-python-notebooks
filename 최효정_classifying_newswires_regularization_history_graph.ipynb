{
 "cells": [
  {
   "cell_type": "markdown",
   "metadata": {},
   "source": [
    "## The Reuters dataset"
   ]
  },
  {
   "cell_type": "markdown",
   "metadata": {},
   "source": [
    "**chapter 3의 The Reuters dataset을 사용, history graph으로 original, l2 regularization, drop-out 모델의 validation loss를 이용해 비교한 결과이다. **"
   ]
  },
  {
   "cell_type": "code",
   "execution_count": 1,
   "metadata": {},
   "outputs": [
    {
     "data": {
      "text/plain": [
       "'2.2.4-tf'"
      ]
     },
     "execution_count": 1,
     "metadata": {},
     "output_type": "execute_result"
    }
   ],
   "source": [
    "import tensorflow\n",
    "tensorflow.keras.__version__"
   ]
  },
  {
   "cell_type": "code",
   "execution_count": 2,
   "metadata": {},
   "outputs": [],
   "source": [
    "from tensorflow.keras.datasets import reuters\n",
    "\n",
    "(train_data, train_labels), (test_data, test_labels) = reuters.load_data(num_words=10000)"
   ]
  },
  {
   "cell_type": "code",
   "execution_count": 3,
   "metadata": {},
   "outputs": [
    {
     "data": {
      "text/plain": [
       "8982"
      ]
     },
     "execution_count": 3,
     "metadata": {},
     "output_type": "execute_result"
    }
   ],
   "source": [
    "len(train_labels)"
   ]
  },
  {
   "cell_type": "code",
   "execution_count": 4,
   "metadata": {},
   "outputs": [
    {
     "data": {
      "text/plain": [
       "2246"
      ]
     },
     "execution_count": 4,
     "metadata": {},
     "output_type": "execute_result"
    }
   ],
   "source": [
    "len(test_data)"
   ]
  },
  {
   "cell_type": "code",
   "execution_count": 5,
   "metadata": {},
   "outputs": [],
   "source": [
    "import numpy as np\n",
    "\n",
    "def vectorize_sequences(sequences, dimension=10000):\n",
    "    results = np.zeros((len(sequences), dimension))\n",
    "    for i, sequence in enumerate(sequences):\n",
    "        results[i, sequence] = 1.\n",
    "    return results\n",
    "\n",
    "# Our vectorized training data\n",
    "x_train = vectorize_sequences(train_data)\n",
    "# Our vectorized test data\n",
    "x_test = vectorize_sequences(test_data)\n"
   ]
  },
  {
   "cell_type": "code",
   "execution_count": 6,
   "metadata": {},
   "outputs": [],
   "source": [
    "def to_one_hot(labels, dimension=46):\n",
    "    results = np.zeros((len(labels), dimension))\n",
    "    for i, label in enumerate(labels):\n",
    "        results[i, label] = 1.\n",
    "    return results\n",
    "\n",
    "# Our vectorized training labels\n",
    "one_hot_train_labels = to_one_hot(train_labels)\n",
    "# Our vectorized test labels\n",
    "one_hot_test_labels = to_one_hot(test_labels)"
   ]
  },
  {
   "cell_type": "code",
   "execution_count": 7,
   "metadata": {},
   "outputs": [],
   "source": [
    "from tensorflow.keras.utils import to_categorical\n",
    "\n",
    "y_train = to_categorical(train_labels)\n",
    "y_test = to_categorical(test_labels)"
   ]
  },
  {
   "cell_type": "markdown",
   "metadata": {},
   "source": [
    "## Original model\n"
   ]
  },
  {
   "cell_type": "code",
   "execution_count": 17,
   "metadata": {},
   "outputs": [],
   "source": [
    "from tensorflow.keras import models\n",
    "from tensorflow.keras import layers\n",
    "\n",
    "original_model = models.Sequential()\n",
    "original_model.add(layers.Dense(64, activation='relu', input_shape=(10000,)))\n",
    "original_model.add(layers.Dense(64, activation='relu'))\n",
    "original_model.add(layers.Dense(46, activation='softmax'))\n",
    "\n",
    "\n",
    "original_model.compile(optimizer='rmsprop',\n",
    "              loss='categorical_crossentropy',\n",
    "              metrics=['accuracy'])"
   ]
  },
  {
   "cell_type": "code",
   "execution_count": 18,
   "metadata": {},
   "outputs": [
    {
     "name": "stdout",
     "output_type": "stream",
     "text": [
      "Train on 8982 samples, validate on 2246 samples\n",
      "Epoch 1/20\n",
      "8982/8982 [==============================] - 1s 80us/sample - loss: 1.7251 - accuracy: 0.6324 - val_loss: 1.2440 - val_accuracy: 0.7119\n",
      "Epoch 2/20\n",
      "8982/8982 [==============================] - 0s 51us/sample - loss: 0.9064 - accuracy: 0.8010 - val_loss: 1.0442 - val_accuracy: 0.7645\n",
      "Epoch 3/20\n",
      "8982/8982 [==============================] - 0s 50us/sample - loss: 0.6129 - accuracy: 0.8682 - val_loss: 0.9460 - val_accuracy: 0.7787\n",
      "Epoch 4/20\n",
      "8982/8982 [==============================] - 0s 50us/sample - loss: 0.4295 - accuracy: 0.9087 - val_loss: 0.9725 - val_accuracy: 0.7832\n",
      "Epoch 5/20\n",
      "8982/8982 [==============================] - 0s 51us/sample - loss: 0.3152 - accuracy: 0.9331 - val_loss: 0.9461 - val_accuracy: 0.7970\n",
      "Epoch 6/20\n",
      "8982/8982 [==============================] - 0s 50us/sample - loss: 0.2497 - accuracy: 0.9417 - val_loss: 1.0311 - val_accuracy: 0.7916\n",
      "Epoch 7/20\n",
      "8982/8982 [==============================] - 0s 50us/sample - loss: 0.2117 - accuracy: 0.9482 - val_loss: 1.0360 - val_accuracy: 0.8041\n",
      "Epoch 8/20\n",
      "8982/8982 [==============================] - 0s 51us/sample - loss: 0.1861 - accuracy: 0.9491 - val_loss: 1.1094 - val_accuracy: 0.7947\n",
      "Epoch 9/20\n",
      "8982/8982 [==============================] - 0s 50us/sample - loss: 0.1740 - accuracy: 0.9519 - val_loss: 1.1318 - val_accuracy: 0.7867\n",
      "Epoch 10/20\n",
      "8982/8982 [==============================] - 0s 51us/sample - loss: 0.1602 - accuracy: 0.9525 - val_loss: 1.1246 - val_accuracy: 0.7983\n",
      "Epoch 11/20\n",
      "8982/8982 [==============================] - 0s 50us/sample - loss: 0.1469 - accuracy: 0.9548 - val_loss: 1.1897 - val_accuracy: 0.7907\n",
      "Epoch 12/20\n",
      "8982/8982 [==============================] - 0s 50us/sample - loss: 0.1439 - accuracy: 0.9552 - val_loss: 1.2131 - val_accuracy: 0.7961\n",
      "Epoch 13/20\n",
      "8982/8982 [==============================] - 0s 51us/sample - loss: 0.1382 - accuracy: 0.9547 - val_loss: 1.2458 - val_accuracy: 0.7965\n",
      "Epoch 14/20\n",
      "8982/8982 [==============================] - 0s 50us/sample - loss: 0.1308 - accuracy: 0.9561 - val_loss: 1.3660 - val_accuracy: 0.7836\n",
      "Epoch 15/20\n",
      "8982/8982 [==============================] - 0s 50us/sample - loss: 0.1280 - accuracy: 0.9546 - val_loss: 1.2859 - val_accuracy: 0.7939\n",
      "Epoch 16/20\n",
      "8982/8982 [==============================] - 0s 51us/sample - loss: 0.1261 - accuracy: 0.9542 - val_loss: 1.3634 - val_accuracy: 0.7894\n",
      "Epoch 17/20\n",
      "8982/8982 [==============================] - 0s 51us/sample - loss: 0.1257 - accuracy: 0.9537 - val_loss: 1.3968 - val_accuracy: 0.7823\n",
      "Epoch 18/20\n",
      "8982/8982 [==============================] - 0s 51us/sample - loss: 0.1203 - accuracy: 0.9537 - val_loss: 1.3431 - val_accuracy: 0.7907\n",
      "Epoch 19/20\n",
      "8982/8982 [==============================] - 0s 50us/sample - loss: 0.1161 - accuracy: 0.9548 - val_loss: 1.5362 - val_accuracy: 0.7680\n",
      "Epoch 20/20\n",
      "8982/8982 [==============================] - 0s 50us/sample - loss: 0.1101 - accuracy: 0.9544 - val_loss: 1.4956 - val_accuracy: 0.7823\n"
     ]
    }
   ],
   "source": [
    "original_hist = original_model.fit(x_train,\n",
    "                    y_train,\n",
    "                    epochs=20,\n",
    "                    batch_size=128, # 데이터가 작은 관계로 조정\n",
    "                    validation_data=(x_test, y_test))"
   ]
  },
  {
   "cell_type": "markdown",
   "metadata": {},
   "source": [
    "## l2 regularization"
   ]
  },
  {
   "cell_type": "code",
   "execution_count": 19,
   "metadata": {},
   "outputs": [],
   "source": [
    "from tensorflow.keras import regularizers\n",
    "\n",
    "l2_model = models.Sequential()\n",
    "l2_model.add(layers.Dense(64, kernel_regularizer=regularizers.l2(0.001),\n",
    "                          activation='relu', input_shape=(10000,)))\n",
    "l2_model.add(layers.Dense(64, kernel_regularizer=regularizers.l2(0.001),\n",
    "                          activation='relu'))\n",
    "\n",
    "\n",
    "l2_model.add(layers.Dense(46, activation='softmax'))\n",
    "\n",
    "l2_model.compile(optimizer='rmsprop',\n",
    "              loss='categorical_crossentropy',\n",
    "              metrics=['accuracy'])"
   ]
  },
  {
   "cell_type": "code",
   "execution_count": 20,
   "metadata": {},
   "outputs": [
    {
     "name": "stdout",
     "output_type": "stream",
     "text": [
      "Train on 8982 samples, validate on 2246 samples\n",
      "Epoch 1/20\n",
      "8982/8982 [==============================] - 1s 92us/sample - loss: 1.8869 - accuracy: 0.6418 - val_loss: 1.4024 - val_accuracy: 0.7137\n",
      "Epoch 2/20\n",
      "8982/8982 [==============================] - 1s 56us/sample - loss: 1.1339 - accuracy: 0.7812 - val_loss: 1.2242 - val_accuracy: 0.7524\n",
      "Epoch 3/20\n",
      "8982/8982 [==============================] - 1s 56us/sample - loss: 0.9027 - accuracy: 0.8344 - val_loss: 1.1489 - val_accuracy: 0.7654\n",
      "Epoch 4/20\n",
      "8982/8982 [==============================] - 1s 57us/sample - loss: 0.7663 - accuracy: 0.8706 - val_loss: 1.1345 - val_accuracy: 0.7747\n",
      "Epoch 5/20\n",
      "8982/8982 [==============================] - 1s 57us/sample - loss: 0.6772 - accuracy: 0.8951 - val_loss: 1.1087 - val_accuracy: 0.7863\n",
      "Epoch 6/20\n",
      "8982/8982 [==============================] - 1s 56us/sample - loss: 0.6187 - accuracy: 0.9113 - val_loss: 1.1277 - val_accuracy: 0.7796\n",
      "Epoch 7/20\n",
      "8982/8982 [==============================] - 1s 56us/sample - loss: 0.5744 - accuracy: 0.9201 - val_loss: 1.1053 - val_accuracy: 0.7872\n",
      "Epoch 8/20\n",
      "8982/8982 [==============================] - 1s 57us/sample - loss: 0.5469 - accuracy: 0.9287 - val_loss: 1.1809 - val_accuracy: 0.7809\n",
      "Epoch 9/20\n",
      "8982/8982 [==============================] - 1s 56us/sample - loss: 0.5224 - accuracy: 0.9336 - val_loss: 1.1291 - val_accuracy: 0.7894\n",
      "Epoch 10/20\n",
      "8982/8982 [==============================] - 1s 57us/sample - loss: 0.5062 - accuracy: 0.9331 - val_loss: 1.1477 - val_accuracy: 0.7876\n",
      "Epoch 11/20\n",
      "8982/8982 [==============================] - 1s 57us/sample - loss: 0.4889 - accuracy: 0.9382 - val_loss: 1.1718 - val_accuracy: 0.7867\n",
      "Epoch 12/20\n",
      "8982/8982 [==============================] - 1s 56us/sample - loss: 0.4749 - accuracy: 0.9405 - val_loss: 1.1569 - val_accuracy: 0.7885\n",
      "Epoch 13/20\n",
      "8982/8982 [==============================] - 1s 57us/sample - loss: 0.4650 - accuracy: 0.9423 - val_loss: 1.1671 - val_accuracy: 0.7912\n",
      "Epoch 14/20\n",
      "8982/8982 [==============================] - 1s 56us/sample - loss: 0.4569 - accuracy: 0.9430 - val_loss: 1.1616 - val_accuracy: 0.7845\n",
      "Epoch 15/20\n",
      "8982/8982 [==============================] - 1s 57us/sample - loss: 0.4487 - accuracy: 0.9436 - val_loss: 1.1820 - val_accuracy: 0.7850\n",
      "Epoch 16/20\n",
      "8982/8982 [==============================] - 1s 56us/sample - loss: 0.4417 - accuracy: 0.9441 - val_loss: 1.1985 - val_accuracy: 0.7801\n",
      "Epoch 17/20\n",
      "8982/8982 [==============================] - 1s 56us/sample - loss: 0.4296 - accuracy: 0.9462 - val_loss: 1.1902 - val_accuracy: 0.7858\n",
      "Epoch 18/20\n",
      "8982/8982 [==============================] - 1s 56us/sample - loss: 0.4349 - accuracy: 0.9451 - val_loss: 1.1880 - val_accuracy: 0.7783\n",
      "Epoch 19/20\n",
      "8982/8982 [==============================] - 1s 57us/sample - loss: 0.4200 - accuracy: 0.9464 - val_loss: 1.1681 - val_accuracy: 0.7841\n",
      "Epoch 20/20\n",
      "8982/8982 [==============================] - 1s 56us/sample - loss: 0.4200 - accuracy: 0.9478 - val_loss: 1.1534 - val_accuracy: 0.7925\n"
     ]
    }
   ],
   "source": [
    "l2_model_hist = l2_model.fit(x_train,\n",
    "                    y_train,\n",
    "                    epochs=20,\n",
    "                    batch_size=128,\n",
    "                    validation_data=(x_test,y_test))"
   ]
  },
  {
   "cell_type": "code",
   "execution_count": 12,
   "metadata": {},
   "outputs": [
    {
     "data": {
      "text/plain": [
       "dict_keys(['loss', 'accuracy', 'val_loss', 'val_accuracy'])"
      ]
     },
     "execution_count": 12,
     "metadata": {},
     "output_type": "execute_result"
    }
   ],
   "source": [
    "original_hist.history.keys()\n"
   ]
  },
  {
   "cell_type": "code",
   "execution_count": 13,
   "metadata": {},
   "outputs": [
    {
     "data": {
      "text/plain": [
       "dict_keys(['loss', 'accuracy', 'val_loss', 'val_accuracy'])"
      ]
     },
     "execution_count": 13,
     "metadata": {},
     "output_type": "execute_result"
    }
   ],
   "source": [
    "l2_model_hist.history.keys()"
   ]
  },
  {
   "cell_type": "markdown",
   "metadata": {},
   "source": [
    "### original vs l2-regularization"
   ]
  },
  {
   "cell_type": "code",
   "execution_count": 21,
   "metadata": {},
   "outputs": [],
   "source": [
    "epochs = range(1, 21)\n",
    "original_val_loss = original_hist.history['val_loss']\n",
    "l2_model_val_loss = l2_model_hist.history['val_loss']"
   ]
  },
  {
   "cell_type": "code",
   "execution_count": 22,
   "metadata": {},
   "outputs": [
    {
     "data": {
      "image/png": "[encoded data removed]",
      "text/plain": [
       "<Figure size 432x288 with 1 Axes>"
      ]
     },
     "metadata": {},
     "output_type": "display_data"
    }
   ],
   "source": [
    "import matplotlib.pyplot as plt\n",
    "\n",
    "# b+ is for \"blue cross\"\n",
    "plt.plot(epochs, original_val_loss, 'b+', label='Original model')\n",
    "# \"bo\" is for \"blue dot\"\n",
    "plt.plot(epochs, l2_model_val_loss, 'bo', label='l2 model')\n",
    "plt.xlabel('Epochs')\n",
    "plt.ylabel('Validation loss')\n",
    "plt.legend()\n",
    "\n",
    "plt.show()"
   ]
  },
  {
   "cell_type": "markdown",
   "metadata": {},
   "source": [
    "l2 모델은 기울기를 유지하며 overfitting을 방지해 주는 것으로 보이지만, epoch 10 전에서는 original model이 성능이 더 좋은 것으로 보인다."
   ]
  },
  {
   "cell_type": "markdown",
   "metadata": {},
   "source": [
    "## Adding dropout"
   ]
  },
  {
   "cell_type": "code",
   "execution_count": 47,
   "metadata": {},
   "outputs": [],
   "source": [
    "dpt_model = models.Sequential()\n",
    "dpt_model.add(layers.Dense(64, activation='relu', input_shape=(10000,)))\n",
    "dpt_model.add(layers.Dropout(0.5))\n",
    "dpt_model.add(layers.Dense(64, activation='relu'))\n",
    "dpt_model.add(layers.Dropout(0.5))\n",
    "dpt_model.add(layers.Dense(46, activation='softmax'))\n",
    "\n",
    "dpt_model.compile(optimizer='rmsprop',\n",
    "              loss='categorical_crossentropy',\n",
    "              metrics=['accuracy'])"
   ]
  },
  {
   "cell_type": "code",
   "execution_count": 48,
   "metadata": {},
   "outputs": [
    {
     "name": "stdout",
     "output_type": "stream",
     "text": [
      "Train on 8982 samples, validate on 2246 samples\n",
      "Epoch 1/20\n",
      "8982/8982 [==============================] - 1s 86us/sample - loss: 2.2654 - accuracy: 0.4752 - val_loss: 1.5720 - val_accuracy: 0.6313\n",
      "Epoch 2/20\n",
      "8982/8982 [==============================] - 0s 52us/sample - loss: 1.5555 - accuracy: 0.6290 - val_loss: 1.3509 - val_accuracy: 0.6906\n",
      "Epoch 3/20\n",
      "8982/8982 [==============================] - ETA: 0s - loss: 1.3330 - accuracy: 0.67 - 0s 52us/sample - loss: 1.3309 - accuracy: 0.6805 - val_loss: 1.2527 - val_accuracy: 0.7039\n",
      "Epoch 4/20\n",
      "8982/8982 [==============================] - 0s 52us/sample - loss: 1.1930 - accuracy: 0.7135 - val_loss: 1.1844 - val_accuracy: 0.7275\n",
      "Epoch 5/20\n",
      "8982/8982 [==============================] - 0s 52us/sample - loss: 1.0924 - accuracy: 0.7407 - val_loss: 1.1362 - val_accuracy: 0.7516\n",
      "Epoch 6/20\n",
      "8982/8982 [==============================] - 0s 52us/sample - loss: 1.0042 - accuracy: 0.7602 - val_loss: 1.1165 - val_accuracy: 0.7587\n",
      "Epoch 7/20\n",
      "8982/8982 [==============================] - 0s 52us/sample - loss: 0.9256 - accuracy: 0.7776 - val_loss: 1.1044 - val_accuracy: 0.7676\n",
      "Epoch 8/20\n",
      "8982/8982 [==============================] - 0s 52us/sample - loss: 0.8628 - accuracy: 0.7885 - val_loss: 1.1291 - val_accuracy: 0.7680\n",
      "Epoch 9/20\n",
      "8982/8982 [==============================] - 0s 52us/sample - loss: 0.8102 - accuracy: 0.7989 - val_loss: 1.1368 - val_accuracy: 0.7747\n",
      "Epoch 10/20\n",
      "8982/8982 [==============================] - 0s 52us/sample - loss: 0.7799 - accuracy: 0.8087 - val_loss: 1.1409 - val_accuracy: 0.7778\n",
      "Epoch 11/20\n",
      "8982/8982 [==============================] - 0s 52us/sample - loss: 0.7344 - accuracy: 0.8185 - val_loss: 1.1278 - val_accuracy: 0.7805\n",
      "Epoch 12/20\n",
      "8982/8982 [==============================] - 0s 52us/sample - loss: 0.7041 - accuracy: 0.8297 - val_loss: 1.1870 - val_accuracy: 0.7827\n",
      "Epoch 13/20\n",
      "8982/8982 [==============================] - 0s 52us/sample - loss: 0.6623 - accuracy: 0.8391 - val_loss: 1.2225 - val_accuracy: 0.7809\n",
      "Epoch 14/20\n",
      "8982/8982 [==============================] - 0s 51us/sample - loss: 0.6443 - accuracy: 0.8381 - val_loss: 1.2366 - val_accuracy: 0.7863\n",
      "Epoch 15/20\n",
      "8982/8982 [==============================] - 0s 52us/sample - loss: 0.6143 - accuracy: 0.8430 - val_loss: 1.2542 - val_accuracy: 0.7858\n",
      "Epoch 16/20\n",
      "8982/8982 [==============================] - 0s 52us/sample - loss: 0.5966 - accuracy: 0.8513 - val_loss: 1.2824 - val_accuracy: 0.7850\n",
      "Epoch 17/20\n",
      "8982/8982 [==============================] - 0s 52us/sample - loss: 0.5629 - accuracy: 0.8568 - val_loss: 1.3895 - val_accuracy: 0.7863\n",
      "Epoch 18/20\n",
      "8982/8982 [==============================] - 0s 52us/sample - loss: 0.5454 - accuracy: 0.8599 - val_loss: 1.3333 - val_accuracy: 0.7912\n",
      "Epoch 19/20\n",
      "8982/8982 [==============================] - ETA: 0s - loss: 0.5296 - accuracy: 0.86 - 0s 52us/sample - loss: 0.5351 - accuracy: 0.8634 - val_loss: 1.4011 - val_accuracy: 0.7921\n",
      "Epoch 20/20\n",
      "8982/8982 [==============================] - 0s 51us/sample - loss: 0.5182 - accuracy: 0.8674 - val_loss: 1.4459 - val_accuracy: 0.7934\n"
     ]
    }
   ],
   "source": [
    "dpt_model_hist = dpt_model.fit(x_train,\n",
    "                    y_train,\n",
    "                    epochs=20,\n",
    "                    batch_size=128,\n",
    "                    validation_data=(x_test, y_test))"
   ]
  },
  {
   "cell_type": "markdown",
   "metadata": {},
   "source": [
    "### original vs drop-out (p=0.5) "
   ]
  },
  {
   "cell_type": "code",
   "execution_count": 49,
   "metadata": {},
   "outputs": [],
   "source": [
    "epochs = range(1, 21)\n",
    "original_val_loss = original_hist.history['val_loss']\n",
    "dpt_model_val_loss = dpt_model_hist.history['val_loss']"
   ]
  },
  {
   "cell_type": "code",
   "execution_count": 50,
   "metadata": {},
   "outputs": [
    {
     "data": {
      "image/png": "[encoded data removed]",
      "text/plain": [
       "<Figure size 432x288 with 1 Axes>"
      ]
     },
     "metadata": {},
     "output_type": "display_data"
    }
   ],
   "source": [
    "plt.plot(epochs, original_val_loss, 'b+', label='Original model')\n",
    "plt.plot(epochs, dpt_model_val_loss, 'bo', label='Dropout-regularized model')\n",
    "plt.xlabel('Epochs')\n",
    "plt.ylabel('Validation loss')\n",
    "plt.legend()\n",
    "\n",
    "plt.show()"
   ]
  },
  {
   "cell_type": "markdown",
   "metadata": {},
   "source": [
    "p=0.5, 즉 노드를 절반만 선택했을때의 결과이다. original model이 최저점을 기록하고 있으므로 original model이 더 좋은 결과를 보이고 있다.  \n",
    "\n",
    "p=0.5에서의 드롭아웃 결과가 좋지 못해 p를 0.2로 조정하여 다시 training 시켜 보았다."
   ]
  },
  {
   "cell_type": "code",
   "execution_count": 43,
   "metadata": {},
   "outputs": [],
   "source": [
    "dpt_model = models.Sequential()\n",
    "dpt_model.add(layers.Dense(64, activation='relu', input_shape=(10000,)))\n",
    "dpt_model.add(layers.Dropout(0.2))\n",
    "dpt_model.add(layers.Dense(64, activation='relu'))\n",
    "dpt_model.add(layers.Dropout(0.2))\n",
    "dpt_model.add(layers.Dense(46, activation='softmax'))\n",
    "\n",
    "dpt_model.compile(optimizer='rmsprop',\n",
    "              loss='categorical_crossentropy',\n",
    "              metrics=['accuracy'])"
   ]
  },
  {
   "cell_type": "code",
   "execution_count": 44,
   "metadata": {},
   "outputs": [
    {
     "name": "stdout",
     "output_type": "stream",
     "text": [
      "Train on 8982 samples, validate on 2246 samples\n",
      "Epoch 1/20\n",
      "8982/8982 [==============================] - 1s 85us/sample - loss: 1.9218 - accuracy: 0.5770 - val_loss: 1.3360 - val_accuracy: 0.6919\n",
      "Epoch 2/20\n",
      "8982/8982 [==============================] - 0s 52us/sample - loss: 1.1616 - accuracy: 0.7342 - val_loss: 1.1284 - val_accuracy: 0.7440\n",
      "Epoch 3/20\n",
      "8982/8982 [==============================] - 0s 51us/sample - loss: 0.8860 - accuracy: 0.8016 - val_loss: 1.0003 - val_accuracy: 0.7734\n",
      "Epoch 4/20\n",
      "8982/8982 [==============================] - 0s 52us/sample - loss: 0.7076 - accuracy: 0.8370 - val_loss: 0.9658 - val_accuracy: 0.7747\n",
      "Epoch 5/20\n",
      "8982/8982 [==============================] - 0s 51us/sample - loss: 0.5699 - accuracy: 0.8681 - val_loss: 0.9367 - val_accuracy: 0.7921\n",
      "Epoch 6/20\n",
      "8982/8982 [==============================] - 0s 52us/sample - loss: 0.4660 - accuracy: 0.8906 - val_loss: 0.9528 - val_accuracy: 0.7947\n",
      "Epoch 7/20\n",
      "8982/8982 [==============================] - 0s 52us/sample - loss: 0.3898 - accuracy: 0.9108 - val_loss: 0.9487 - val_accuracy: 0.8037\n",
      "Epoch 8/20\n",
      "8982/8982 [==============================] - 0s 52us/sample - loss: 0.3276 - accuracy: 0.9263 - val_loss: 1.0184 - val_accuracy: 0.7974\n",
      "Epoch 9/20\n",
      "8982/8982 [==============================] - 0s 52us/sample - loss: 0.2863 - accuracy: 0.9340 - val_loss: 1.0303 - val_accuracy: 0.8041\n",
      "Epoch 10/20\n",
      "8982/8982 [==============================] - 0s 52us/sample - loss: 0.2601 - accuracy: 0.9401 - val_loss: 1.0863 - val_accuracy: 0.8001\n",
      "Epoch 11/20\n",
      "8982/8982 [==============================] - 0s 52us/sample - loss: 0.2315 - accuracy: 0.9422 - val_loss: 1.1167 - val_accuracy: 0.8014\n",
      "Epoch 12/20\n",
      "8982/8982 [==============================] - 0s 52us/sample - loss: 0.2163 - accuracy: 0.9457 - val_loss: 1.1900 - val_accuracy: 0.7979\n",
      "Epoch 13/20\n",
      "8982/8982 [==============================] - 0s 52us/sample - loss: 0.2051 - accuracy: 0.9453 - val_loss: 1.1838 - val_accuracy: 0.8014\n",
      "Epoch 14/20\n",
      "8982/8982 [==============================] - 0s 52us/sample - loss: 0.1902 - accuracy: 0.9488 - val_loss: 1.2246 - val_accuracy: 0.8010\n",
      "Epoch 15/20\n",
      "8982/8982 [==============================] - 0s 51us/sample - loss: 0.1753 - accuracy: 0.9519 - val_loss: 1.2612 - val_accuracy: 0.8032\n",
      "Epoch 16/20\n",
      "8982/8982 [==============================] - 0s 52us/sample - loss: 0.1639 - accuracy: 0.9527 - val_loss: 1.3185 - val_accuracy: 0.8001\n",
      "Epoch 17/20\n",
      "8982/8982 [==============================] - 0s 52us/sample - loss: 0.1601 - accuracy: 0.9528 - val_loss: 1.4190 - val_accuracy: 0.7979\n",
      "Epoch 18/20\n",
      "8982/8982 [==============================] - 0s 52us/sample - loss: 0.1524 - accuracy: 0.9525 - val_loss: 1.3763 - val_accuracy: 0.8019\n",
      "Epoch 19/20\n",
      "8982/8982 [==============================] - 0s 52us/sample - loss: 0.1472 - accuracy: 0.9528 - val_loss: 1.4975 - val_accuracy: 0.7974\n",
      "Epoch 20/20\n",
      "8982/8982 [==============================] - 0s 51us/sample - loss: 0.1424 - accuracy: 0.9549 - val_loss: 1.5329 - val_accuracy: 0.8001\n"
     ]
    }
   ],
   "source": [
    "dpt_model_hist = dpt_model.fit(x_train,\n",
    "                    y_train,\n",
    "                    epochs=20,\n",
    "                    batch_size=128,\n",
    "                    validation_data=(x_test, y_test))"
   ]
  },
  {
   "cell_type": "markdown",
   "metadata": {},
   "source": [
    "### original vs drop-out (p=0.2)"
   ]
  },
  {
   "cell_type": "code",
   "execution_count": 45,
   "metadata": {},
   "outputs": [],
   "source": [
    "epochs = range(1, 21)\n",
    "original_val_loss = original_hist.history['val_loss']\n",
    "dpt_model_val_loss = dpt_model_hist.history['val_loss']"
   ]
  },
  {
   "cell_type": "code",
   "execution_count": 46,
   "metadata": {},
   "outputs": [
    {
     "data": {
      "image/png": "[encoded data removed]",
      "text/plain": [
       "<Figure size 432x288 with 1 Axes>"
      ]
     },
     "metadata": {},
     "output_type": "display_data"
    }
   ],
   "source": [
    "plt.plot(epochs, original_val_loss, 'b+', label='Original model')\n",
    "plt.plot(epochs, dpt_model_val_loss, 'bo', label='Dropout-regularized model')\n",
    "plt.xlabel('Epochs')\n",
    "plt.ylabel('Validation loss')\n",
    "plt.legend()\n",
    "\n",
    "plt.show()"
   ]
  },
  {
   "cell_type": "markdown",
   "metadata": {},
   "source": [
    "p=0.2, 즉 노드의 20%만 선택했을때의 결과이다.   \n",
    "\n",
    "초반 에포크에서 original 모델이 더 좋은 결과를 보이고 있지만 drop-out 모델이 최저점을 기록하고 있기 때문에 드롭아웃이 좀 더 좋아보인다."
   ]
  }
 ],
 "metadata": {
  "kernelspec": {
   "display_name": "tf20",
   "language": "python",
   "name": "tf20"
  },
  "language_info": {
   "codemirror_mode": {
    "name": "ipython",
    "version": 3
   },
   "file_extension": ".py",
   "mimetype": "text/x-python",
   "name": "python",
   "nbconvert_exporter": "python",
   "pygments_lexer": "ipython3",
   "version": "3.6.5"
  }
 },
 "nbformat": 4,
 "nbformat_minor": 2
}
