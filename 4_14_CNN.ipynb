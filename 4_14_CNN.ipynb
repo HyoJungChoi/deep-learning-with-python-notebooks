{
 "cells": [
  {
   "cell_type": "markdown",
   "metadata": {},
   "source": [
    "패딩: 차원을 유지하고 싶을때  valid= 패딩 안함 , same= 똑같은 차원으로 나오게 패딩\n",
    "\n",
    "stride: 1칸씩 전진, 2칸씩 전진 ..\n",
    "\n",
    "![conv2d](./image/conv2d.png)\n",
    "\n",
    "max-pooling: 2 by 2면 2 by 2에서 최댓값을 뽑아서 차원 줄이는거  \n",
    "\n",
    "![maxpool](./image/maxpool.png)"
   ]
  },
  {
   "cell_type": "markdown",
   "metadata": {},
   "source": [
    "average pooling 보단 max pooling이 좋고 , tanh 보다 relu가 좋다.\n",
    "\n",
    "CNN 할 때 데이터 수가 적으면, data argumentation을 사용(회전, 잘라내기, RGB 조절)   \n",
    "\n",
    "transfer learning 기존의 학습된 모형에서 내 문제를 푸는데 마지막 활성화 층을 지우고 우리으 목적에 맞게 수정  \n",
    "\n"
   ]
  },
  {
   "cell_type": "markdown",
   "metadata": {},
   "source": [
    "google tensorflow 이미지 불러오기 참고하라 !!\n",
    "\n",
    "validation에서는 셔플링을 꼭 빼줘야 한다.  \n",
    "\n",
    "\n",
    "\n",
    "오버피팅을 방지해주는것 :\n",
    "1. data argumentation   \n",
    "2. drop out  \n",
    "3. L2-norm"
   ]
  },
  {
   "cell_type": "markdown",
   "metadata": {},
   "source": [
    "sheer_range : 명암조절  \n",
    "rotation_range: 몇도 돌릴건지  \n",
    "width_shift, height_shift : 얼마나 shift 할건지  \n",
    "zoom_range: 얼마나 확대할건지  \n",
    "horizontal_flip: 좌우대칭   \n",
    "fill_mode : 빈 픽셀을 어떻게 채울건지  \n",
    "\n",
    "validation_steps : 발리데이션 셋을 얼마나 쓸지"
   ]
  }
 ],
 "metadata": {
  "kernelspec": {
   "display_name": "Python 3",
   "language": "python",
   "name": "python3"
  },
  "language_info": {
   "codemirror_mode": {
    "name": "ipython",
    "version": 3
   },
   "file_extension": ".py",
   "mimetype": "text/x-python",
   "name": "python",
   "nbconvert_exporter": "python",
   "pygments_lexer": "ipython3",
   "version": "3.7.6"
  }
 },
 "nbformat": 4,
 "nbformat_minor": 4
}
