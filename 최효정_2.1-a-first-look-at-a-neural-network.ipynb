{
 "cells": [
  {
   "cell_type": "code",
   "execution_count": 4,
   "metadata": {},
   "outputs": [
    {
     "name": "stdout",
     "output_type": "stream",
     "text": [
      "Requirement already satisfied: keras==2.0.8 in c:\\users\\chlgy\\anaconda3\\envs\\tensorflow\\lib\\site-packages (2.0.8)\n",
      "Requirement already satisfied: numpy>=1.9.1 in c:\\users\\chlgy\\anaconda3\\envs\\tensorflow\\lib\\site-packages (from keras==2.0.8) (1.18.1)\n",
      "Requirement already satisfied: pyyaml in c:\\users\\chlgy\\anaconda3\\envs\\tensorflow\\lib\\site-packages (from keras==2.0.8) (5.3.1)\n",
      "Requirement already satisfied: scipy>=0.14 in c:\\users\\chlgy\\anaconda3\\envs\\tensorflow\\lib\\site-packages (from keras==2.0.8) (1.4.1)\n",
      "Requirement already satisfied: six>=1.9.0 in c:\\users\\chlgy\\anaconda3\\envs\\tensorflow\\lib\\site-packages (from keras==2.0.8) (1.14.0)\n"
     ]
    }
   ],
   "source": [
    "# 케라스 설치\n",
    "!pip install keras==2.0.8\n"
   ]
  },
  {
   "cell_type": "code",
   "execution_count": 7,
   "metadata": {},
   "outputs": [
    {
     "name": "stdout",
     "output_type": "stream",
     "text": [
      "Requirement already satisfied: tensorflow==1.13.1 in c:\\users\\chlgy\\anaconda3\\envs\\tensorflow\\lib\\site-packages (1.13.1)\n",
      "Requirement already satisfied: astor>=0.6.0 in c:\\users\\chlgy\\anaconda3\\envs\\tensorflow\\lib\\site-packages (from tensorflow==1.13.1) (0.8.0)\n",
      "Requirement already satisfied: gast>=0.2.0 in c:\\users\\chlgy\\anaconda3\\envs\\tensorflow\\lib\\site-packages (from tensorflow==1.13.1) (0.3.3)\n",
      "Requirement already satisfied: keras-applications>=1.0.6 in c:\\users\\chlgy\\anaconda3\\envs\\tensorflow\\lib\\site-packages (from tensorflow==1.13.1) (1.0.8)\n",
      "Requirement already satisfied: wheel>=0.26 in c:\\users\\chlgy\\anaconda3\\envs\\tensorflow\\lib\\site-packages (from tensorflow==1.13.1) (0.34.2)\n",
      "Requirement already satisfied: keras-preprocessing>=1.0.5 in c:\\users\\chlgy\\anaconda3\\envs\\tensorflow\\lib\\site-packages (from tensorflow==1.13.1) (1.1.0)\n",
      "Requirement already satisfied: absl-py>=0.1.6 in c:\\users\\chlgy\\anaconda3\\envs\\tensorflow\\lib\\site-packages (from tensorflow==1.13.1) (0.9.0)\n",
      "Requirement already satisfied: six>=1.10.0 in c:\\users\\chlgy\\anaconda3\\envs\\tensorflow\\lib\\site-packages (from tensorflow==1.13.1) (1.14.0)\n",
      "Requirement already satisfied: termcolor>=1.1.0 in c:\\users\\chlgy\\anaconda3\\envs\\tensorflow\\lib\\site-packages (from tensorflow==1.13.1) (1.1.0)\n",
      "Requirement already satisfied: numpy>=1.13.3 in c:\\users\\chlgy\\anaconda3\\envs\\tensorflow\\lib\\site-packages (from tensorflow==1.13.1) (1.18.1)\n",
      "Requirement already satisfied: tensorflow-estimator<1.14.0rc0,>=1.13.0 in c:\\users\\chlgy\\anaconda3\\envs\\tensorflow\\lib\\site-packages (from tensorflow==1.13.1) (1.13.0)\n",
      "Requirement already satisfied: protobuf>=3.6.1 in c:\\users\\chlgy\\anaconda3\\envs\\tensorflow\\lib\\site-packages (from tensorflow==1.13.1) (3.11.4)\n",
      "Requirement already satisfied: tensorboard<1.14.0,>=1.13.0 in c:\\users\\chlgy\\anaconda3\\envs\\tensorflow\\lib\\site-packages (from tensorflow==1.13.1) (1.13.1)\n",
      "Requirement already satisfied: grpcio>=1.8.6 in c:\\users\\chlgy\\anaconda3\\envs\\tensorflow\\lib\\site-packages (from tensorflow==1.13.1) (1.27.2)\n",
      "Requirement already satisfied: h5py in c:\\users\\chlgy\\anaconda3\\envs\\tensorflow\\lib\\site-packages (from keras-applications>=1.0.6->tensorflow==1.13.1) (2.10.0)\n",
      "Requirement already satisfied: setuptools in c:\\users\\chlgy\\anaconda3\\envs\\tensorflow\\lib\\site-packages (from protobuf>=3.6.1->tensorflow==1.13.1) (46.0.0.post20200309)\n",
      "Requirement already satisfied: werkzeug>=0.11.15 in c:\\users\\chlgy\\anaconda3\\envs\\tensorflow\\lib\\site-packages (from tensorboard<1.14.0,>=1.13.0->tensorflow==1.13.1) (1.0.0)\n",
      "Requirement already satisfied: markdown>=2.6.8 in c:\\users\\chlgy\\anaconda3\\envs\\tensorflow\\lib\\site-packages (from tensorboard<1.14.0,>=1.13.0->tensorflow==1.13.1) (3.1.1)\n"
     ]
    }
   ],
   "source": [
    "!pip install tensorflow==1.13.1"
   ]
  },
  {
   "cell_type": "code",
   "execution_count": 8,
   "metadata": {},
   "outputs": [
    {
     "name": "stdout",
     "output_type": "stream",
     "text": [
      "Package              Version            \n",
      "-------------------- -------------------\n",
      "absl-py              0.9.0              \n",
      "alembic              1.4.2              \n",
      "astor                0.8.0              \n",
      "attrs                19.3.0             \n",
      "backcall             0.1.0              \n",
      "bleach               3.1.0              \n",
      "certifi              2019.11.28         \n",
      "certipy              0.1.3              \n",
      "colorama             0.4.3              \n",
      "decorator            4.4.2              \n",
      "defusedxml           0.6.0              \n",
      "entrypoints          0.3                \n",
      "gast                 0.3.3              \n",
      "grpcio               1.27.2             \n",
      "h5py                 2.10.0             \n",
      "importlib-metadata   1.5.0              \n",
      "ipykernel            5.1.4              \n",
      "ipython              7.13.0             \n",
      "ipython-genutils     0.2.0              \n",
      "jedi                 0.16.0             \n",
      "Jinja2               2.11.1             \n",
      "json5                0.9.2              \n",
      "jsonschema           3.2.0              \n",
      "jupyter-client       6.0.0              \n",
      "jupyter-core         4.6.1              \n",
      "jupyter-telemetry    0.0.5              \n",
      "jupyterhub           1.1.0              \n",
      "jupyterlab           1.2.6              \n",
      "jupyterlab-server    1.0.7              \n",
      "Keras                2.0.8              \n",
      "Keras-Applications   1.0.8              \n",
      "Keras-Preprocessing  1.1.0              \n",
      "Mako                 1.1.2              \n",
      "Markdown             3.1.1              \n",
      "MarkupSafe           1.1.1              \n",
      "mistune              0.8.4              \n",
      "mkl-fft              1.0.15             \n",
      "mkl-random           1.1.0              \n",
      "mkl-service          2.3.0              \n",
      "mock                 4.0.1              \n",
      "nbconvert            5.6.1              \n",
      "nbformat             5.0.4              \n",
      "notebook             6.0.3              \n",
      "numpy                1.18.1             \n",
      "oauthlib             3.1.0              \n",
      "pamela               1.0.0              \n",
      "pandocfilters        1.4.2              \n",
      "parso                0.6.2              \n",
      "pickleshare          0.7.5              \n",
      "pip                  20.0.2             \n",
      "prometheus-client    0.7.1              \n",
      "prompt-toolkit       3.0.3              \n",
      "protobuf             3.11.4             \n",
      "Pygments             2.6.1              \n",
      "pyreadline           2.1                \n",
      "pyrsistent           0.15.7             \n",
      "python-dateutil      2.8.1              \n",
      "python-editor        1.0.4              \n",
      "python-json-logger   0.1.11             \n",
      "pywin32              227                \n",
      "pywinpty             0.5.7              \n",
      "PyYAML               5.3.1              \n",
      "pyzmq                18.1.1             \n",
      "ruamel.yaml          0.16.10            \n",
      "ruamel.yaml.clib     0.2.0              \n",
      "scipy                1.4.1              \n",
      "Send2Trash           1.5.0              \n",
      "setuptools           46.0.0.post20200309\n",
      "six                  1.14.0             \n",
      "tensorboard          1.13.1             \n",
      "tensorflow           1.13.1             \n",
      "tensorflow-estimator 1.13.0             \n",
      "termcolor            1.1.0              \n",
      "terminado            0.8.3              \n",
      "testpath             0.4.4              \n",
      "tornado              6.0.4              \n",
      "traitlets            4.3.3              \n",
      "wcwidth              0.1.8              \n",
      "webencodings         0.5.1              \n",
      "Werkzeug             1.0.0              \n",
      "wheel                0.34.2             \n",
      "wincertstore         0.2                \n",
      "zipp                 2.2.0              \n"
     ]
    }
   ],
   "source": [
    "# 버전 확인\n",
    "!pip list"
   ]
  },
  {
   "cell_type": "code",
   "execution_count": 1,
   "metadata": {},
   "outputs": [
    {
     "name": "stderr",
     "output_type": "stream",
     "text": [
      "C:\\Users\\chlgy\\Anaconda3\\envs\\tf0\\lib\\site-packages\\tensorflow\\python\\framework\\dtypes.py:526: FutureWarning: Passing (type, 1) or '1type' as a synonym of type is deprecated; in a future version of numpy, it will be understood as (type, (1,)) / '(1,)type'.\n",
      "  _np_qint8 = np.dtype([(\"qint8\", np.int8, 1)])\n",
      "C:\\Users\\chlgy\\Anaconda3\\envs\\tf0\\lib\\site-packages\\tensorflow\\python\\framework\\dtypes.py:527: FutureWarning: Passing (type, 1) or '1type' as a synonym of type is deprecated; in a future version of numpy, it will be understood as (type, (1,)) / '(1,)type'.\n",
      "  _np_quint8 = np.dtype([(\"quint8\", np.uint8, 1)])\n",
      "C:\\Users\\chlgy\\Anaconda3\\envs\\tf0\\lib\\site-packages\\tensorflow\\python\\framework\\dtypes.py:528: FutureWarning: Passing (type, 1) or '1type' as a synonym of type is deprecated; in a future version of numpy, it will be understood as (type, (1,)) / '(1,)type'.\n",
      "  _np_qint16 = np.dtype([(\"qint16\", np.int16, 1)])\n",
      "C:\\Users\\chlgy\\Anaconda3\\envs\\tf0\\lib\\site-packages\\tensorflow\\python\\framework\\dtypes.py:529: FutureWarning: Passing (type, 1) or '1type' as a synonym of type is deprecated; in a future version of numpy, it will be understood as (type, (1,)) / '(1,)type'.\n",
      "  _np_quint16 = np.dtype([(\"quint16\", np.uint16, 1)])\n",
      "C:\\Users\\chlgy\\Anaconda3\\envs\\tf0\\lib\\site-packages\\tensorflow\\python\\framework\\dtypes.py:530: FutureWarning: Passing (type, 1) or '1type' as a synonym of type is deprecated; in a future version of numpy, it will be understood as (type, (1,)) / '(1,)type'.\n",
      "  _np_qint32 = np.dtype([(\"qint32\", np.int32, 1)])\n",
      "C:\\Users\\chlgy\\Anaconda3\\envs\\tf0\\lib\\site-packages\\tensorflow\\python\\framework\\dtypes.py:535: FutureWarning: Passing (type, 1) or '1type' as a synonym of type is deprecated; in a future version of numpy, it will be understood as (type, (1,)) / '(1,)type'.\n",
      "  np_resource = np.dtype([(\"resource\", np.ubyte, 1)])\n"
     ]
    },
    {
     "name": "stdout",
     "output_type": "stream",
     "text": [
      "1.13.1\n"
     ]
    }
   ],
   "source": [
    "import tensorflow as tf\n",
    "print(tf.__version__)"
   ]
  },
  {
   "cell_type": "code",
   "execution_count": 2,
   "metadata": {},
   "outputs": [
    {
     "name": "stderr",
     "output_type": "stream",
     "text": [
      "Using TensorFlow backend.\n"
     ]
    },
    {
     "data": {
      "text/plain": [
       "'2.0.8'"
      ]
     },
     "execution_count": 2,
     "metadata": {},
     "output_type": "execute_result"
    }
   ],
   "source": [
    "import keras\n",
    "keras.__version__"
   ]
  },
  {
   "cell_type": "markdown",
   "metadata": {},
   "source": [
    "**keras** 에는 이미 mnist 데이터가 포함되어 있어, 다음과 같이 데이터를 가져올 수 있다. "
   ]
  },
  {
   "cell_type": "code",
   "execution_count": 3,
   "metadata": {},
   "outputs": [],
   "source": [
    "from keras.datasets import mnist\n",
    "\n",
    "(train_images, train_labels), (test_images, test_labels) = mnist.load_data()"
   ]
  },
  {
   "cell_type": "code",
   "execution_count": 4,
   "metadata": {},
   "outputs": [
    {
     "data": {
      "text/plain": [
       "(60000, 28, 28)"
      ]
     },
     "execution_count": 4,
     "metadata": {},
     "output_type": "execute_result"
    }
   ],
   "source": [
    "train_images.shape\n",
    "#shape를 확인한 결과 28 * 28 픽셀의 60000개의 training images가 있다."
   ]
  },
  {
   "cell_type": "code",
   "execution_count": 5,
   "metadata": {},
   "outputs": [
    {
     "data": {
      "text/plain": [
       "60000"
      ]
     },
     "execution_count": 5,
     "metadata": {},
     "output_type": "execute_result"
    }
   ],
   "source": [
    "len(train_labels)\n",
    "# train_labels는 0-9사이의 숫자 배열로 60000개가 있다."
   ]
  },
  {
   "cell_type": "code",
   "execution_count": 6,
   "metadata": {},
   "outputs": [
    {
     "data": {
      "text/plain": [
       "array([5, 0, 4, ..., 5, 6, 8], dtype=uint8)"
      ]
     },
     "execution_count": 6,
     "metadata": {},
     "output_type": "execute_result"
    }
   ],
   "source": [
    "train_labels\n",
    "# train_labels의 배열은 다음과 같다."
   ]
  },
  {
   "cell_type": "code",
   "execution_count": 7,
   "metadata": {},
   "outputs": [
    {
     "data": {
      "text/plain": [
       "(10000, 28, 28)"
      ]
     },
     "execution_count": 7,
     "metadata": {},
     "output_type": "execute_result"
    }
   ],
   "source": [
    "test_images.shape\n",
    "# test_images의 shape을 확인한 결과 28 * 28 픽셀의 10000개 데이터를 가지고 있다."
   ]
  },
  {
   "cell_type": "code",
   "execution_count": 8,
   "metadata": {},
   "outputs": [
    {
     "data": {
      "text/plain": [
       "10000"
      ]
     },
     "execution_count": 8,
     "metadata": {},
     "output_type": "execute_result"
    }
   ],
   "source": [
    "len(test_labels)\n",
    "# test_labels 역시 0-9 사이의 숫자이며 10000개가 있다. "
   ]
  },
  {
   "cell_type": "code",
   "execution_count": 9,
   "metadata": {},
   "outputs": [
    {
     "data": {
      "text/plain": [
       "array([7, 2, 1, ..., 4, 5, 6], dtype=uint8)"
      ]
     },
     "execution_count": 9,
     "metadata": {},
     "output_type": "execute_result"
    }
   ],
   "source": [
    "test_labels\n",
    "# test_labels의 배열은 다음과 같다."
   ]
  },
  {
   "cell_type": "code",
   "execution_count": 10,
   "metadata": {},
   "outputs": [
    {
     "name": "stdout",
     "output_type": "stream",
     "text": [
      "WARNING:tensorflow:From C:\\Users\\chlgy\\Anaconda3\\envs\\tf0\\lib\\site-packages\\tensorflow\\python\\framework\\op_def_library.py:263: colocate_with (from tensorflow.python.framework.ops) is deprecated and will be removed in a future version.\n",
      "Instructions for updating:\n",
      "Colocations handled automatically by placer.\n"
     ]
    }
   ],
   "source": [
    "from keras import models\n",
    "from keras import layers\n",
    "\n",
    "network = models.Sequential()\n",
    "network.add(layers.Dense(512, activation='relu', input_shape=(28 * 28,)))\n",
    "network.add(layers.Dense(10, activation='softmax'))"
   ]
  },
  {
   "cell_type": "markdown",
   "metadata": {},
   "source": [
    "딥러닝 모델은 데이터 처리를 위한 체와 같은 것으로, 점점 더 정교한 데이터 필터인 \"레이어\"로 이루어져 있다. 여기서는 두 개의 Dense layers로 구성되어 있다. keras에서는 첫번째 레이어에서 데이터 형태 input_shape를 지정해 준다.   \n",
    "\n",
    "첫번째 Dense layer(완전 연결층)은 512개의 노드(뉴런)과 활성화 함수로 relu를 사용한다.  \n",
    "\n",
    "마지막의 소프트맥스 층의 경우는 10개의 확률 점수가 들어있는 배열을 반환한다."
   ]
  },
  {
   "cell_type": "code",
   "execution_count": 11,
   "metadata": {},
   "outputs": [
    {
     "name": "stdout",
     "output_type": "stream",
     "text": [
      "WARNING:tensorflow:From C:\\Users\\chlgy\\Anaconda3\\envs\\tf0\\lib\\site-packages\\keras\\backend\\tensorflow_backend.py:2755: calling reduce_sum_v1 (from tensorflow.python.ops.math_ops) with keep_dims is deprecated and will be removed in a future version.\n",
      "Instructions for updating:\n",
      "keep_dims is deprecated, use keepdims instead\n"
     ]
    }
   ],
   "source": [
    "network.compile(optimizer='rmsprop',\n",
    "                loss='categorical_crossentropy',\n",
    "                metrics=['accuracy'])"
   ]
  },
  {
   "cell_type": "markdown",
   "metadata": {},
   "source": [
    "신경망이 훈련 준비를 마치기 위해서는 컴파일 단계에 포함될 3가지가 더 필요하다.  \n",
    "\n",
    "- loss function: 네트워크가 훈련 데이터에서 얼마나 일을 잘 하고 있는지를 측정할 수 있다. (여기서는 범주형 크로스 엔트로피=softmax loss를 사용했다.)    \n",
    "\n",
    "\n",
    "- Optimizer: 데이터와 손실함수에 기초하여 스스로 업데이트하는 메커니즘이다.(여기서는 RMSProp을 사용했다.)\n",
    "\n",
    "\n",
    "\n",
    "- 훈련과 테스트 과정을 모니터링할 지표 (여기서는 정확도를 사용했다)"
   ]
  },
  {
   "cell_type": "code",
   "execution_count": 12,
   "metadata": {},
   "outputs": [],
   "source": [
    "train_images = train_images.reshape((60000, 28 * 28))\n",
    "train_images = train_images.astype('float32') / 255\n",
    "\n",
    "test_images = test_images.reshape((10000, 28 * 28))\n",
    "test_images = test_images.astype('float32') / 255"
   ]
  },
  {
   "cell_type": "markdown",
   "metadata": {},
   "source": [
    "훈련에 앞서 네트워크가 기대하는 형태로 데이터를 재편성하고, 모든 값이 [0, 1] 간격으로 되도록 스케일링을 하여 데이터를 미리 처리한다.   \n",
    "\n",
    "이전에, 우리의 훈련 이미지는 [0, 255] 간격의 값과 함께 uint8 형식의 배열(600, 28, 28)로 저장되었다. 우리는 이것을 0과 1 사이의 값으로 float32 배열(60000, 28 * 28)로 변환한다."
   ]
  },
  {
   "cell_type": "code",
   "execution_count": 13,
   "metadata": {},
   "outputs": [],
   "source": [
    "from keras.utils import to_categorical\n",
    "\n",
    "train_labels = to_categorical(train_labels)\n",
    "test_labels = to_categorical(test_labels)"
   ]
  },
  {
   "cell_type": "markdown",
   "metadata": {},
   "source": [
    "우리는 label들을 카테고리로 인코딩 시켜줘야 한다. "
   ]
  },
  {
   "cell_type": "code",
   "execution_count": 14,
   "metadata": {},
   "outputs": [
    {
     "name": "stdout",
     "output_type": "stream",
     "text": [
      "WARNING:tensorflow:From C:\\Users\\chlgy\\Anaconda3\\envs\\tf0\\lib\\site-packages\\tensorflow\\python\\ops\\math_ops.py:3066: to_int32 (from tensorflow.python.ops.math_ops) is deprecated and will be removed in a future version.\n",
      "Instructions for updating:\n",
      "Use tf.cast instead.\n",
      "Epoch 1/5\n",
      "60000/60000 [==============================] - 7s - loss: 0.2544 - acc: 0.9278     \n",
      "Epoch 2/5\n",
      "60000/60000 [==============================] - 7s - loss: 0.1021 - acc: 0.9685     \n",
      "Epoch 3/5\n",
      "60000/60000 [==============================] - 7s - loss: 0.0675 - acc: 0.9797     \n",
      "Epoch 4/5\n",
      "60000/60000 [==============================] - 6s - loss: 0.0487 - acc: 0.9852     \n",
      "Epoch 5/5\n",
      "60000/60000 [==============================] - 7s - loss: 0.0375 - acc: 0.9887     - ETA: 0s - loss: 0.0371 - \n"
     ]
    },
    {
     "data": {
      "text/plain": [
       "<keras.callbacks.History at 0x1e2da5f8648>"
      ]
     },
     "execution_count": 14,
     "metadata": {},
     "output_type": "execute_result"
    }
   ],
   "source": [
    "network.fit(train_images, train_labels, epochs=5, batch_size=128)\n",
    "#입력데이터(train_images)와 출력데이터(train_labels)를 인자로 넣고, 작업 단위 128로 5번 훈련시킨다."
   ]
  },
  {
   "cell_type": "markdown",
   "metadata": {},
   "source": [
    "훈련 중에 두 가지 quantity가 표시되는데, 그것은 훈련 데이터에 대한 네트워크의 \"손실\"과 훈련 데이터에 대한 네트워크의 정확성이다.\n",
    "\n",
    " \n",
    "\n",
    "우리는 훈련 데이터에 대해 0.9892(즉, 98.9%)의 정확도에 빠르게 도달한다. "
   ]
  },
  {
   "cell_type": "code",
   "execution_count": 18,
   "metadata": {},
   "outputs": [
    {
     "name": "stdout",
     "output_type": "stream",
     "text": [
      " 9760/10000 [============================>.] - ETA: 0s"
     ]
    }
   ],
   "source": [
    "test_loss, test_acc = network.evaluate(test_images, test_labels)\n",
    "#테스트 세트에서 모델의 성능을 비교"
   ]
  },
  {
   "cell_type": "code",
   "execution_count": 19,
   "metadata": {},
   "outputs": [
    {
     "name": "stdout",
     "output_type": "stream",
     "text": [
      "test_acc: 0.9771\n"
     ]
    }
   ],
   "source": [
    "print('test_acc:', test_acc)"
   ]
  },
  {
   "cell_type": "markdown",
   "metadata": {},
   "source": [
    "우리의 시험 세트 정확도는 97.8%로 나타났는데, 이는 훈련 세트 정확도보다 상당히 낮은 것이다. 훈련 정확도와 시험 정확도 사이의 이러한 차이는 훈련세트에 '과대적합' 되었기 때문이다."
   ]
  }
 ],
 "metadata": {
  "kernelspec": {
   "display_name": "Python 3",
   "language": "python",
   "name": "python3"
  },
  "language_info": {
   "codemirror_mode": {
    "name": "ipython",
    "version": 3
   },
   "file_extension": ".py",
   "mimetype": "text/x-python",
   "name": "python",
   "nbconvert_exporter": "python",
   "pygments_lexer": "ipython3",
   "version": "3.7.6"
  }
 },
 "nbformat": 4,
 "nbformat_minor": 2
}
